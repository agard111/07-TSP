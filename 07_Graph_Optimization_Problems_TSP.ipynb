{
 "cells": [
  {
   "cell_type": "code",
   "execution_count": 3,
   "metadata": {
    "colab": {
     "base_uri": "https://localhost:8080/",
     "height": 1000
    },
    "colab_type": "code",
    "id": "f0F8I8wnm5gX",
    "outputId": "a4c4b069-041a-4636-cfd5-40c61263f83f"
   },
   "outputs": [],
   "source": [
    "import networkx as nx\n",
    "try:\n",
    "  import osmnx as ox\n",
    "except:\n",
    "  # osmnx depends on the system package libspatialindex\n",
    "  !apt install libspatialindex-dev\n",
    "  !pip install osmnx\n",
    "  import osmnx as ox\n",
    "\n",
    "try: \n",
    "  import geopandas as gpd\n",
    "except: \n",
    "  !pip install geopandas \n",
    "  import geopandas as gpd\n",
    "  \n",
    "try:\n",
    "  import contextily as ctx \n",
    "except:\n",
    "  # install dependencies for contextily\n",
    "  !apt install libproj-dev proj-data proj-bin\n",
    "  !apt install libgeos-dev\n",
    "  !pip install cython\n",
    "  !pip install cartopy\n",
    "  # install contextily\n",
    "  !pip install contextily==1.0rc1 --no-use-pep517 --no-cache-dir\n",
    "  import contextily as ctx\n",
    "  \n",
    "import fiona\n",
    "from shapely.geometry import Point, LineString, Polygon\n",
    "  \n",
    "import pandas as pd\n",
    "import numpy as np\n",
    "import matplotlib.pyplot as plt\n",
    "import pathlib"
   ]
  },
  {
   "cell_type": "markdown",
   "metadata": {
    "colab_type": "text",
    "id": "ejhrKBqPng9F"
   },
   "source": [
    "# Traveling Salesman Problem\n",
    "The canonical Traveling Salesman Problem is stated as:\n",
    ">  \"Given a list of cities and the distances between each pair of cities, what is the shortest possible route that visits each city and returns to the origin city?\"\n",
    "\n",
    "This is generalizable to finding the shortest [Hamiltonian cycle](http://mathworld.wolfram.com/HamiltonianCycle.html) on a fully connected graph (i.e. all nodes can be reached from all other nodes).\n",
    "\n",
    "This problem is [NP-hard](https://en.wikipedia.org/wiki/P_versus_NP_problem), meaning it is not possible for an algorithm to solve all instances of the problem quickly (i.e. in polynomial time). However, there are many approximate and heuristic approaches which can give reasonable solutions in shorter time."
   ]
  },
  {
   "cell_type": "code",
   "execution_count": 4,
   "metadata": {
    "colab": {},
    "colab_type": "code",
    "id": "C6JmtPFto13K"
   },
   "outputs": [],
   "source": [
    "place_name = 'New York City, NY, United States'\n",
    "place_roads = ox.graph_from_place(place_name)\n"
   ]
  },
  {
   "cell_type": "code",
   "execution_count": 5,
   "metadata": {
    "colab": {},
    "colab_type": "code",
    "id": "k5W0RTsawXlE"
   },
   "outputs": [],
   "source": [
    "place_roads_nodes, place_roads_edges = ox.graph_to_gdfs(place_roads)"
   ]
  },
  {
   "cell_type": "code",
   "execution_count": 4,
   "metadata": {
    "colab": {
     "base_uri": "https://localhost:8080/",
     "height": 530
    },
    "colab_type": "code",
    "id": "Hnp2qXbMss49",
    "outputId": "08d8d5d5-600f-482e-9623-e7691cf4e06c"
   },
   "outputs": [
    {
     "data": {
      "image/png": "[encoded data removed]",
      "text/plain": [
       "<Figure size 720x720 with 1 Axes>"
      ]
     },
     "metadata": {
      "needs_background": "light"
     },
     "output_type": "display_data"
    }
   ],
   "source": [
    "fig = plt.figure(figsize=[10,10])\n",
    "ax = fig.add_subplot(1,1,1)\n",
    "#place_roads_edges.plot(ax=ax, color=[0.8, 0.8, 0.8], alpha=0.5)"
   ]
  },
  {
   "cell_type": "code",
   "execution_count": 9,
   "metadata": {},
   "outputs": [
    {
     "data": {
      "text/plain": [
       "<networkx.classes.multidigraph.MultiDiGraph at 0x7f58d6813650>"
      ]
     },
     "execution_count": 9,
     "metadata": {},
     "output_type": "execute_result"
    }
   ],
   "source": []
  },
  {
   "cell_type": "markdown",
   "metadata": {
    "colab_type": "text",
    "id": "IoiI3SS1pIIs"
   },
   "source": [
    "Let's say you wanted to do a ice cream crawl: you want to visit every ice cream shop in a city. What is the shortest route that you would take that takes you to every ice cream shop in a city and brings you back to your starting point?"
   ]
  },
  {
   "cell_type": "code",
   "execution_count": 12,
   "metadata": {
    "colab": {
     "base_uri": "https://localhost:8080/",
     "height": 779
    },
    "colab_type": "code",
    "id": "tAQK62C7pB7V",
    "outputId": "8323c432-4da4-4e10-bd43-8a9534da31da"
   },
   "outputs": [
    {
     "name": "stderr",
     "output_type": "stream",
     "text": [
      "/opt/conda/lib/python3.7/site-packages/osmnx/pois.py:370: UserWarning: Geometry is in a geographic CRS. Results from 'centroid' are likely incorrect. Use 'GeoSeries.to_crs()' to re-project geometries to a projected CRS before this operation.\n",
      "\n",
      "  gdf = gdf.loc[gdf[\"geometry\"].centroid.within(polygon)]\n"
     ]
    }
   ],
   "source": [
    "place_ice_cream = ox.pois_from_place(place_name, tags={\"amenity\":\"ice_cream\"})\n",
    "\n",
    "#some of the ice cream shops return polygons instead of points, so we need to take their centroids\n",
    "place_ice_cream = place_ice_cream.to_crs(\"epsg:3857\") #projecting to Web-Mercator for more accurate centroids\n",
    "place_ice_cream[\"geometry\"] = place_ice_cream[\"geometry\"].centroid\n",
    "place_ice_cream = place_ice_cream.to_crs(\"epsg:4326\") #projecting back to lat/long\n",
    "\n",
    "\n",
    "place_ice_cream = place_ice_cream.drop(576014904)\n"
   ]
  },
  {
   "cell_type": "code",
   "execution_count": 212,
   "metadata": {
    "colab": {
     "base_uri": "https://localhost:8080/",
     "height": 69
    },
    "colab_type": "code",
    "id": "DSEkty3Lr0AX",
    "outputId": "5fbf5594-6005-4b2c-93a2-0854624c22bb"
   },
   "outputs": [
    {
     "data": {
      "text/plain": [
       "array([  42430886,   42492239,  999184395,   42474968, 7465391419,\n",
       "       3004844986, 2698702581,   42854333, 6406731704,   42428799,\n",
       "       4205565536, 5115916405, 5482687360, 4376122105,   42875051,\n",
       "       4216045804,   42870183,   42466073, 6638433920, 3891969471,\n",
       "         42469645, 4964127740,   42434959, 6210777837,   42435663,\n",
       "       6263083540, 6597498400, 5396215013,   42807319,   42876552,\n",
       "         42439406,   42466011, 7654949115, 7492443638, 7570756477,\n",
       "         42732035, 4544455461, 3834459546, 5510458199, 4320028830,\n",
       "         42827392, 5490750794, 7015842113, 2111006220, 6406731684,\n",
       "         42469492, 4115968602,   42506318,   42438034,   42431712,\n",
       "         42453226, 4708375542,   42826882, 5830644226, 7229660637,\n",
       "         42491627, 5159433792,   42807083,   42807108,   42487567,\n",
       "       5482727326,   42827669,   42885444, 2484549752, 5471772227,\n",
       "         42497261, 5482174044,   42495404,   42512343, 6369613026,\n",
       "       3891969467,   42843615, 6814288111, 1372888911, 6816458072,\n",
       "         42487583, 6450635184,   42487597,   42497631,   42433551,\n",
       "         42848654,   42442848, 1815133244, 3783144655,   42438034,\n",
       "       4235734223, 7641718028, 7641718028, 7113914110, 7134855841,\n",
       "         42492250, 3832902959, 5813416225, 5391643301, 5288127945,\n",
       "       4918486816, 2823833443,   42443680,   42469637,   42432066,\n",
       "         42469329, 6683030360,   42475807, 7103815237,   42445413,\n",
       "       6703945639, 6710581359, 4407705329, 4407735207, 4407735215,\n",
       "         42817136, 6774630482, 6656645223,   42464864, 4548586067,\n",
       "       5515778108,   42479281,   42468965, 6980049855,   42428807,\n",
       "       5829779508,   42899537, 5036727638,   42428385, 4300912707,\n",
       "         42930068, 5488535945,   42430253, 6207264927, 7346811818,\n",
       "       2504466035,   42847684,   42844568, 2385856616, 6207264916,\n",
       "         42874993, 5784518510])"
      ]
     },
     "execution_count": 212,
     "metadata": {},
     "output_type": "execute_result"
    }
   ],
   "source": [
    "ice_cream_nodes = ox.get_nearest_nodes(place_roads, place_ice_cream.geometry.x, place_ice_cream.geometry.y)\n",
    "ice_cream_nodes"
   ]
  },
  {
   "cell_type": "code",
   "execution_count": 214,
   "metadata": {},
   "outputs": [
    {
     "data": {
      "text/plain": [
       "(137,)"
      ]
     },
     "execution_count": 214,
     "metadata": {},
     "output_type": "execute_result"
    }
   ],
   "source": [
    "ice_cream_nodes.shape"
   ]
  },
  {
   "cell_type": "markdown",
   "metadata": {
    "colab_type": "text",
    "id": "7vjZXdo4wwx0"
   },
   "source": [
    "## Exercise\n",
    "Plot the locations of the ice cream shops on the map of the roads"
   ]
  },
  {
   "cell_type": "code",
   "execution_count": 7,
   "metadata": {
    "colab": {},
    "colab_type": "code",
    "id": "wUuhBee2w9Bd"
   },
   "outputs": [
    {
     "ename": "AttributeError",
     "evalue": "'numpy.ndarray' object has no attribute 'plot'",
     "output_type": "error",
     "traceback": [
      "\u001b[0;31m---------------------------------------------------------------------------\u001b[0m",
      "\u001b[0;31mAttributeError\u001b[0m                            Traceback (most recent call last)",
      "\u001b[0;32m<ipython-input-7-3fb98db780e4>\u001b[0m in \u001b[0;36m<module>\u001b[0;34m\u001b[0m\n\u001b[1;32m      1\u001b[0m \u001b[0mfig\u001b[0m \u001b[0;34m=\u001b[0m \u001b[0mplt\u001b[0m\u001b[0;34m.\u001b[0m\u001b[0mfigure\u001b[0m\u001b[0;34m(\u001b[0m\u001b[0mfigsize\u001b[0m\u001b[0;34m=\u001b[0m\u001b[0;34m[\u001b[0m\u001b[0;36m10\u001b[0m\u001b[0;34m,\u001b[0m\u001b[0;36m10\u001b[0m\u001b[0;34m]\u001b[0m\u001b[0;34m)\u001b[0m\u001b[0;34m\u001b[0m\u001b[0;34m\u001b[0m\u001b[0m\n\u001b[1;32m      2\u001b[0m \u001b[0max\u001b[0m \u001b[0;34m=\u001b[0m \u001b[0mfig\u001b[0m\u001b[0;34m.\u001b[0m\u001b[0madd_subplot\u001b[0m\u001b[0;34m(\u001b[0m\u001b[0;36m1\u001b[0m\u001b[0;34m,\u001b[0m\u001b[0;36m1\u001b[0m\u001b[0;34m,\u001b[0m\u001b[0;36m1\u001b[0m\u001b[0;34m)\u001b[0m\u001b[0;34m\u001b[0m\u001b[0;34m\u001b[0m\u001b[0m\n\u001b[0;32m----> 3\u001b[0;31m \u001b[0mice_cream_nodes\u001b[0m\u001b[0;34m.\u001b[0m\u001b[0mplot\u001b[0m\u001b[0;34m(\u001b[0m\u001b[0max\u001b[0m\u001b[0;34m=\u001b[0m\u001b[0max\u001b[0m\u001b[0;34m)\u001b[0m\u001b[0;34m\u001b[0m\u001b[0;34m\u001b[0m\u001b[0m\n\u001b[0m\u001b[1;32m      4\u001b[0m \u001b[0;34m\u001b[0m\u001b[0m\n\u001b[1;32m      5\u001b[0m \u001b[0;31m#place_roads_edges.plot(ax=ax, color=[0.8, 0.8, 0.8], alpha=0.5)\u001b[0m\u001b[0;34m\u001b[0m\u001b[0;34m\u001b[0m\u001b[0;34m\u001b[0m\u001b[0m\n",
      "\u001b[0;31mAttributeError\u001b[0m: 'numpy.ndarray' object has no attribute 'plot'"
     ]
    },
    {
     "data": {
      "image/png": "[encoded data removed]",
      "text/plain": [
       "<Figure size 720x720 with 1 Axes>"
      ]
     },
     "metadata": {
      "needs_background": "light"
     },
     "output_type": "display_data"
    }
   ],
   "source": [
    "fig = plt.figure(figsize=[10,10])\n",
    "ax = fig.add_subplot(1,1,1)\n",
    "ice_cream_nodes.plot(ax=ax)\n",
    "\n",
    "#place_roads_edges.plot(ax=ax, color=[0.8, 0.8, 0.8], alpha=0.5)\n"
   ]
  },
  {
   "cell_type": "markdown",
   "metadata": {
    "colab_type": "text",
    "id": "qF1NSIerw-j4"
   },
   "source": [
    "## Compute shortest path matrix"
   ]
  },
  {
   "cell_type": "code",
   "execution_count": 181,
   "metadata": {
    "colab": {
     "base_uri": "https://localhost:8080/",
     "height": 399
    },
    "colab_type": "code",
    "id": "q2c8QobPsq8e",
    "outputId": "86cd1497-74cc-4b3e-f8e2-9d1155adecd3"
   },
   "outputs": [
    {
     "data": {
      "text/plain": [
       "array([[    0.   ,  5703.569,  4755.273, ...,  7069.604, 13388.496,\n",
       "          243.69 ],\n",
       "       [ 5291.002,     0.   ,  2185.151, ..., 12203.158, 14341.679,\n",
       "         5194.866],\n",
       "       [ 4694.963,  2337.929,     0.   , ..., 11259.232, 14077.56 ,\n",
       "         4598.827],\n",
       "       ...,\n",
       "       [ 6795.399, 12447.777, 11480.016, ...,     0.   , 13755.4  ,\n",
       "         6850.159],\n",
       "       [13426.217, 14433.363, 14048.552, ..., 13547.678,     0.   ,\n",
       "        13665.726],\n",
       "       [  243.69 ,  5607.433,  4659.137, ...,  7070.626, 13632.186,\n",
       "            0.   ]])"
      ]
     },
     "execution_count": 181,
     "metadata": {},
     "output_type": "execute_result"
    }
   ],
   "source": [
    "shortest_path_matrix = np.zeros([len(ice_cream_nodes),len(ice_cream_nodes)])\n",
    "for idx_i, orig in enumerate(ice_cream_nodes):\n",
    "    shortest_paths = nx.single_source_dijkstra_path_length(place_roads, orig, weight='length')\n",
    "    for idx_j, dest in enumerate(ice_cream_nodes):\n",
    "        shortest_path_matrix[idx_i, idx_j] = shortest_paths[dest]\n",
    "shortest_path_matrix"
   ]
  },
  {
   "cell_type": "code",
   "execution_count": null,
   "metadata": {},
   "outputs": [],
   "source": []
  },
  {
   "cell_type": "code",
   "execution_count": 229,
   "metadata": {
    "colab": {},
    "colab_type": "code",
    "id": "Dx6x4175wv90"
   },
   "outputs": [],
   "source": [
    "ice_cream_graph = nx.from_numpy_matrix(shortest_path_matrix, create_using=nx.MultiDiGraph)"
   ]
  },
  {
   "cell_type": "code",
   "execution_count": 238,
   "metadata": {
    "colab": {
     "base_uri": "https://localhost:8080/",
     "height": 34
    },
    "colab_type": "code",
    "id": "QXZedXvnzGX3",
    "outputId": "6927e94d-aa98-453a-f714-1cfdf650f7a7"
   },
   "outputs": [
    {
     "data": {
      "text/plain": [
       "array([  42430886,   42492239,  999184395,   42474968, 7465391419,\n",
       "       3004844986, 2698702581,   42854333, 6406731704,   42428799,\n",
       "       4205565536, 5115916405, 5482687360, 4376122105,   42875051,\n",
       "       4216045804,   42870183,   42466073, 6638433920, 3891969471,\n",
       "         42469645, 4964127740,   42434959, 6210777837,   42435663,\n",
       "       6263083540, 6597498400, 5396215013,   42807319,   42876552,\n",
       "         42439406,   42466011, 7654949115, 7492443638, 7570756477,\n",
       "         42732035, 4544455461, 3834459546, 5510458199, 4320028830,\n",
       "         42827392, 5490750794, 7015842113, 2111006220, 6406731684,\n",
       "         42469492, 4115968602,   42506318,   42438034,   42431712,\n",
       "         42453226, 4708375542,   42826882, 5830644226, 7229660637,\n",
       "         42491627, 5159433792,   42807083,   42807108,   42487567,\n",
       "       5482727326,   42827669,   42885444, 2484549752, 5471772227,\n",
       "         42497261, 5482174044,   42495404,   42512343, 6369613026,\n",
       "       3891969467,   42843615, 6814288111, 1372888911, 6816458072,\n",
       "         42487583, 6450635184,   42487597,   42497631,   42433551,\n",
       "         42848654,   42442848, 1815133244, 3783144655,   42438034,\n",
       "       4235734223, 7641718028, 7641718028, 7113914110, 7134855841,\n",
       "         42492250, 3832902959, 5813416225, 5391643301, 5288127945,\n",
       "       4918486816, 2823833443,   42443680,   42469637,   42432066,\n",
       "         42469329, 6683030360,   42475807, 7103815237,   42445413,\n",
       "       6703945639, 6710581359, 4407705329, 4407735207, 4407735215,\n",
       "         42817136, 6774630482, 6656645223,   42464864, 4548586067,\n",
       "       5515778108,   42479281,   42468965, 6980049855,   42428807,\n",
       "       5829779508,   42899537, 5036727638,   42428385, 4300912707,\n",
       "         42930068, 5488535945,   42430253, 6207264927, 7346811818,\n",
       "       2504466035,   42847684,   42844568, 2385856616, 6207264916,\n",
       "         42874993, 5784518510])"
      ]
     },
     "execution_count": 238,
     "metadata": {},
     "output_type": "execute_result"
    }
   ],
   "source": [
    "ice_cream_nodes\n",
    "\n"
   ]
  },
  {
   "cell_type": "code",
   "execution_count": 237,
   "metadata": {
    "colab": {
     "base_uri": "https://localhost:8080/",
     "height": 34
    },
    "colab_type": "code",
    "id": "rUufs51xteVN",
    "outputId": "75cdee08-8b22-4f0f-a9da-ab1dfb64676a"
   },
   "outputs": [
    {
     "data": {
      "text/plain": [
       "[42430886,\n",
       " 42492239,\n",
       " 999184395,\n",
       " 42474968,\n",
       " 7465391419,\n",
       " 3004844986,\n",
       " 2698702581,\n",
       " 42854333,\n",
       " 6406731704,\n",
       " 42428799,\n",
       " 4205565536,\n",
       " 5115916405,\n",
       " 5482687360,\n",
       " 4376122105,\n",
       " 42875051,\n",
       " 4216045804,\n",
       " 42870183,\n",
       " 42466073,\n",
       " 6638433920,\n",
       " 3891969471,\n",
       " 42469645,\n",
       " 4964127740,\n",
       " 42434959,\n",
       " 6210777837,\n",
       " 42435663,\n",
       " 6263083540,\n",
       " 6597498400,\n",
       " 5396215013,\n",
       " 42807319,\n",
       " 42876552,\n",
       " 42439406,\n",
       " 42466011,\n",
       " 7654949115,\n",
       " 7492443638,\n",
       " 7570756477,\n",
       " 42732035,\n",
       " 4544455461,\n",
       " 3834459546,\n",
       " 5510458199,\n",
       " 4320028830,\n",
       " 42827392,\n",
       " 5490750794,\n",
       " 7015842113,\n",
       " 2111006220,\n",
       " 6406731684,\n",
       " 42469492,\n",
       " 4115968602,\n",
       " 42506318,\n",
       " 42438034,\n",
       " 42431712,\n",
       " 42453226,\n",
       " 4708375542,\n",
       " 42826882,\n",
       " 5830644226,\n",
       " 7229660637,\n",
       " 42491627,\n",
       " 5159433792,\n",
       " 42807083,\n",
       " 42807108,\n",
       " 42487567,\n",
       " 5482727326,\n",
       " 42827669,\n",
       " 42885444,\n",
       " 2484549752,\n",
       " 5471772227,\n",
       " 42497261,\n",
       " 5482174044,\n",
       " 42495404,\n",
       " 42512343,\n",
       " 6369613026,\n",
       " 3891969467,\n",
       " 42843615,\n",
       " 6814288111,\n",
       " 1372888911,\n",
       " 6816458072,\n",
       " 42487583,\n",
       " 6450635184,\n",
       " 42487597,\n",
       " 42497631,\n",
       " 42433551,\n",
       " 42848654,\n",
       " 42442848,\n",
       " 1815133244,\n",
       " 3783144655,\n",
       " 4235734223,\n",
       " 7641718028,\n",
       " 7113914110,\n",
       " 7134855841,\n",
       " 42492250,\n",
       " 3832902959,\n",
       " 5813416225,\n",
       " 5391643301,\n",
       " 5288127945,\n",
       " 4918486816,\n",
       " 2823833443,\n",
       " 42443680,\n",
       " 42469637,\n",
       " 42432066,\n",
       " 42469329,\n",
       " 6683030360,\n",
       " 42475807,\n",
       " 7103815237,\n",
       " 42445413,\n",
       " 6703945639,\n",
       " 6710581359,\n",
       " 4407705329,\n",
       " 4407735207,\n",
       " 4407735215,\n",
       " 42817136,\n",
       " 6774630482,\n",
       " 6656645223,\n",
       " 42464864,\n",
       " 4548586067,\n",
       " 5515778108,\n",
       " 42479281,\n",
       " 42468965,\n",
       " 6980049855,\n",
       " 42428807,\n",
       " 5829779508,\n",
       " 42899537,\n",
       " 5036727638,\n",
       " 42428385,\n",
       " 4300912707,\n",
       " 42930068,\n",
       " 5488535945,\n",
       " 42430253,\n",
       " 6207264927]"
      ]
     },
     "execution_count": 237,
     "metadata": {},
     "output_type": "execute_result"
    }
   ],
   "source": [
    "# rename node labels using original labels\n",
    "ice_cream_graph = nx.relabel_nodes(ice_cream_graph,{k:v for k, v in zip(ice_cream_graph.nodes, ice_cream_nodes)})\n",
    "\n",
    "\n"
   ]
  },
  {
   "cell_type": "code",
   "execution_count": 510,
   "metadata": {},
   "outputs": [],
   "source": [
    "short_path_matrix = np.copy(shortest_path_matrix)\n",
    "short_path_matrix[short_path_matrix == 0] = np.nan\n",
    "total_distance = 0"
   ]
  },
  {
   "cell_type": "code",
   "execution_count": 684,
   "metadata": {},
   "outputs": [
    {
     "data": {
      "text/plain": [
       "array([    0.   ,  5703.569,  4755.273,  7135.163,  1318.959,  3245.271,\n",
       "        5136.848, 19581.712,  8944.752,  9926.134,  2362.672,  6304.018,\n",
       "        8247.737,   447.311, 13929.52 ,   743.247, 17769.381, 13786.554,\n",
       "        9366.9  ,  1451.494,  6695.658, 12658.616,  1990.443,  4087.494,\n",
       "        3866.641,  5135.843,  3732.984, 22807.889, 25473.191, 26267.195,\n",
       "        5997.664, 12271.577,  7556.517,  6274.956,  6948.569, 25816.078,\n",
       "        5173.2  ,   579.964, 27366.543,  1374.375,  8745.427, 19007.565,\n",
       "       20735.467, 17866.532,  8714.184,  5113.982,  1332.021,  5264.447,\n",
       "        2078.53 ,  1265.616,  9569.865,  6601.539,  5027.524, 16853.633,\n",
       "       10126.24 ,  6051.725,  1542.008,  9566.411,  9913.697,  7128.837,\n",
       "        9929.081,  9893.326, 10073.361, 10651.408, 10299.284, 11172.36 ,\n",
       "        9493.317, 14425.912, 14346.915,  1667.433,  1492.592,  9005.654,\n",
       "        7405.385,  5594.619, 15593.875,  7843.17 ,  9830.803,  8317.523,\n",
       "        5544.058,  2375.202, 27214.248,   661.076,  4961.171,  1609.693,\n",
       "        2078.53 ,   400.082,  1962.287,  1962.287,  2223.87 ,  6486.24 ,\n",
       "        6150.823,  1528.79 , 17808.816, 16428.159, 22927.439,  4729.897,\n",
       "        2411.693,  2405.597,  6614.786,  1433.019,  4633.442, 30247.415,\n",
       "        8284.432,  5894.777,  1585.852, 33280.509, 29777.94 , 29749.267,\n",
       "       29587.832, 29719.537, 19538.35 , 29481.505, 30005.684,  5546.292,\n",
       "       19268.006, 19127.224,  5860.703, 14294.059, 15286.219,  9846.472,\n",
       "         956.695,  9156.857, 25572.662,  2949.101,  1660.23 , 26531.96 ,\n",
       "       15384.646,  1175.066,  7229.641, 13162.014,  7747.468, 26761.729,\n",
       "       27170.319, 18808.923,  7069.604, 13388.496,   243.69 ])"
      ]
     },
     "execution_count": 684,
     "metadata": {},
     "output_type": "execute_result"
    }
   ],
   "source": [
    "path\n"
   ]
  },
  {
   "cell_type": "markdown",
   "metadata": {
    "colab_type": "text",
    "id": "IkkkXc4YzRX4"
   },
   "source": [
    "## Exercise\n",
    "Implement each of the following methods to see how good of a TSP path you can obtain."
   ]
  },
  {
   "cell_type": "markdown",
   "metadata": {
    "colab": {},
    "colab_type": "code",
    "id": "s5iJS8jbyBFu"
   },
   "source": [
    "## Method 1: Random\n",
    "Let's start by setting a baseline; how well can we do by starting at a random node and choosing a random node out of the ones remaining each time? \n",
    "\n",
    "After you find the path, draw it on the map and print its length. (You don't need to draw the actual roads taken, just draw lines between the nodes.)"
   ]
  },
  {
   "cell_type": "code",
   "execution_count": 692,
   "metadata": {},
   "outputs": [
    {
     "name": "stdout",
     "output_type": "stream",
     "text": [
      "2014226.980999999\n"
     ]
    }
   ],
   "source": [
    "path = list(ice_cream_graph.nodes)\n",
    "np.random.shuffle(path)\n",
    "path.append(path[0])\n",
    "total_length = 0\n",
    "for idx in range(len(path)-1):\n",
    "    orig = path[idx]\n",
    "    dest = path[idx+1]\n",
    "    length = ice_cream_graph.get_edge_data(orig, dest, 0)['weight']\n",
    "    total_length += length\n",
    "print(total_length)"
   ]
  },
  {
   "cell_type": "markdown",
   "metadata": {},
   "source": [
    "## Method 2: Greedy\n",
    "Now, let's try to choose nodes more intelligently: start at a random node again, but instead of choosing a random node each time, always choose the node closest to the current node each time.\n",
    "\n",
    "Again, draw the path on the map and print its length."
   ]
  },
  {
   "cell_type": "code",
   "execution_count": 676,
   "metadata": {},
   "outputs": [
    {
     "name": "stdout",
     "output_type": "stream",
     "text": [
      "354522.6519999998\n"
     ]
    }
   ],
   "source": [
    "short_path_matrix, short_path_matrix[short_path_matrix == 0], total_distance, starting_node = np.copy(shortest_path_matrix), np.nan, 0, np.random.randint(0, 136)\n",
    "start = starting_node\n",
    "list_of_index_used = [starting_node]\n",
    "\n",
    "for i in range(136):\n",
    "    if i == 135:\n",
    "        Return = shortest_path_matrix[index_v][start]\n",
    "    total_distance += np.nanmin(short_path_matrix[starting_node])\n",
    "    index_v = short_path_matrix[starting_node].tolist().index(np.nanmin(short_path_matrix[starting_node]))\n",
    "    list_of_index_used.append(index_v)\n",
    "    short_path_matrix[index_v][short_path_matrix[index_v] == np.nanmin(short_path_matrix[starting_node])] = np.nan\n",
    "    short_path_matrix[index_v] = short_path_matrix[index_v]\n",
    "    starting_node = index_v\n",
    "    for i in list_of_index_used:\n",
    "        short_path_matrix[index_v][i] = np.nan\n",
    "total_distance = total_distance + Return\n",
    "print(total_distance)"
   ]
  },
  {
   "cell_type": "markdown",
   "metadata": {},
   "source": [
    "## Method 3: Random with 2-opt swapping\n",
    "\n",
    "You may have noticed that both paths contain a lot of edges that cross each other, which is nonideal. However, there exists an algorithm to remove all the paths that cross each other from a Hamiltonian cycle: the [2-opt](https://en.wikipedia.org/wiki/2-opt) algorithm. We can use that to our advantage here.\n",
    "\n",
    "Start by generating a random Hamiltonian cycle like in method 1, but this time, use the 2-opt algorithm to optimize it further. Again, draw it on the map and print its length."
   ]
  },
  {
   "cell_type": "code",
   "execution_count": 677,
   "metadata": {},
   "outputs": [],
   "source": [
    "def twoopt(route, i, k):\n",
    "    \n",
    "    \n",
    "    \n",
    "    "
   ]
  },
  {
   "cell_type": "markdown",
   "metadata": {},
   "source": [
    "## Method 4: Open-ended\n",
    "\n",
    "Although the 2-opt swaps reduce the length of the Hamiltonian cycle by quite a lot, they almost never provide the optimal solution. See if you can use another method to produce a Hamiltonian cycle shorter than the one you got with method 3. Some options to explore include:\n",
    "\n",
    "- [3-opt](https://en.wikipedia.org/wiki/3-opt)\n",
    "- [Multi-fragment algorithm](https://en.wikipedia.org/wiki/Multi-fragment_algorithm) with 2- or 3-opt swapping\n",
    "- [Simulated annealing](https://en.wikipedia.org/wiki/Simulated_annealing)\n",
    "\n",
    "The [TSP Wikipedia page](https://en.wikipedia.org/wiki/Travelling_salesman_problem) has many other algorithms that could be of use to you as well.\n"
   ]
  },
  {
   "cell_type": "code",
   "execution_count": null,
   "metadata": {},
   "outputs": [],
   "source": []
  },
  {
   "cell_type": "code",
   "execution_count": null,
   "metadata": {},
   "outputs": [],
   "source": []
  }
 ],
 "metadata": {
  "colab": {
   "include_colab_link": true,
   "name": "08_Graph_Optimization_Problems-TSP.ipynb",
   "provenance": [],
   "version": "0.3.2"
  },
  "kernelspec": {
   "display_name": "Python 3",
   "language": "python",
   "name": "python3"
  },
  "language_info": {
   "codemirror_mode": {
    "name": "ipython",
    "version": 3
   },
   "file_extension": ".py",
   "mimetype": "text/x-python",
   "name": "python",
   "nbconvert_exporter": "python",
   "pygments_lexer": "ipython3",
   "version": "3.7.6"
  }
 },
 "nbformat": 4,
 "nbformat_minor": 4
}
